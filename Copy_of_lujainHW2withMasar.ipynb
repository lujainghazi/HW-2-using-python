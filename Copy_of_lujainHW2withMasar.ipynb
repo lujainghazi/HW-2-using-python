{
  "nbformat": 4,
  "nbformat_minor": 0,
  "metadata": {
    "colab": {
      "provenance": [],
      "authorship_tag": "ABX9TyOBqXVJ1PME+Uq/pHxhqXuN",
      "include_colab_link": true
    },
    "kernelspec": {
      "name": "python3",
      "display_name": "Python 3"
    },
    "language_info": {
      "name": "python"
    }
  },
  "cells": [
    {
      "cell_type": "markdown",
      "metadata": {
        "id": "view-in-github",
        "colab_type": "text"
      },
      "source": [
        "<a href=\"https://colab.research.google.com/github/lujainghazi/HW-2-using-python/blob/main/Copy_of_lujainHW2withMasar.ipynb\" target=\"_parent\"><img src=\"https://colab.research.google.com/assets/colab-badge.svg\" alt=\"Open In Colab\"/></a>"
      ]
    },
    {
      "cell_type": "code",
      "execution_count": null,
      "metadata": {
        "colab": {
          "base_uri": "https://localhost:8080/"
        },
        "id": "VTBtzLpgVJ3d",
        "outputId": "c49f2ca6-c61c-4cae-bbc4-3005ff52996a"
      },
      "outputs": [
        {
          "output_type": "stream",
          "name": "stdout",
          "text": [
            " معدل المكافأة : 20.0% \n"
          ]
        }
      ],
      "source": [
        "#تعيين القيم\n",
        "\n",
        "evaluation = 'Excellent'\n",
        "years = '11'\n",
        "bonus = 0\n",
        "#الشرط\n",
        "if years <= '10' :\n",
        "  if evaluation == 'Excellent' :\n",
        "    bonus = 0.10\n",
        "  elif evaluation == 'Poor' :\n",
        "     bonus = 0.05\n",
        "elif years > '10' :\n",
        "   if evaluation == 'Excellent' :\n",
        "    bonus = 0.20\n",
        "   elif evaluation == 'Poor' :\n",
        "     bonus = 0.15\n",
        "\n",
        "print(\" معدل المكافأة : \" + str(bonus * 100)  + \"% \" )"
      ]
    }
  ]
}