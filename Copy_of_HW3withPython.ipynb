{
  "nbformat": 4,
  "nbformat_minor": 0,
  "metadata": {
    "colab": {
      "provenance": [],
      "authorship_tag": "ABX9TyORqxsrBcDN0WTJ1bgGSKlR",
      "include_colab_link": true
    },
    "kernelspec": {
      "name": "python3",
      "display_name": "Python 3"
    },
    "language_info": {
      "name": "python"
    }
  },
  "cells": [
    {
      "cell_type": "markdown",
      "metadata": {
        "id": "view-in-github",
        "colab_type": "text"
      },
      "source": [
        "<a href=\"https://colab.research.google.com/github/lujainghazi/HW-2-using-python/blob/main/Copy_of_HW3withPython.ipynb\" target=\"_parent\"><img src=\"https://colab.research.google.com/assets/colab-badge.svg\" alt=\"Open In Colab\"/></a>"
      ]
    },
    {
      "cell_type": "code",
      "execution_count": null,
      "metadata": {
        "colab": {
          "base_uri": "https://localhost:8080/"
        },
        "id": "obcA8l_oNhsd",
        "outputId": "d829b2bc-7ed2-4b1f-a812-67280843d51a"
      },
      "outputs": [
        {
          "output_type": "stream",
          "name": "stdout",
          "text": [
            "Enter the number of stars: 5\n",
            "* \n",
            "* * \n",
            "* * * \n",
            "* * * * \n",
            "* * * * * \n",
            "* * * * \n",
            "* * * \n",
            "* * \n",
            "* \n"
          ]
        }
      ],
      "source": [
        "#1\n",
        "\n",
        "rows = int(input(\"Enter the number of stars: \"))\n",
        "\n",
        "for i in range(rows):\n",
        "   for j in range(i + 1):\n",
        "          print(\"* \", end=\"\")\n",
        "   print()\n",
        "\n",
        "for i in range(rows - 1, 0, -1):\n",
        "  for j in range(i):\n",
        "    print(\"* \", end=\"\")\n",
        "  print()\n"
      ]
    },
    {
      "cell_type": "code",
      "source": [
        "#2\n",
        "\n",
        "count = 0\n",
        "number = 11  #Start checking from 11\n",
        "\n",
        "\n",
        "def is_prime(num):\n",
        "#Checks if a number is prime\n",
        "  if num <= 1:\n",
        "   return False\n",
        "  for i in range(2, int(num**0.5) + 1):\n",
        "    if num % i == 0:\n",
        "      return False\n",
        "  return True\n",
        "\n",
        "while count < 3:\n",
        "    if is_prime(number):\n",
        "      print(number)\n",
        "      count += 1\n",
        "    number += 1\n"
      ],
      "metadata": {
        "id": "BftX8cI0P3oV",
        "colab": {
          "base_uri": "https://localhost:8080/"
        },
        "outputId": "39f77377-e112-4c2a-eb5c-55b4e94a86d1"
      },
      "execution_count": null,
      "outputs": [
        {
          "output_type": "stream",
          "name": "stdout",
          "text": [
            "11\n",
            "13\n",
            "17\n"
          ]
        }
      ]
    }
  ]
}